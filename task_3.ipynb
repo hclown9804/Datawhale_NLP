{
 "cells": [
  {
   "cell_type": "markdown",
   "metadata": {},
   "source": [
    "## TF-IDF原理\n",
    "\n",
    "TF-IDF（term frequency–inverse document frequency）是一种用于信息检索与数据挖掘的常用加权技术。TF意思是词频(Term Frequency)，IDF意思是逆文本频率指数(Inverse Document Frequency)。\n",
    "\n",
    "TF:某一个给定的词语在该文件中出现的频率\n",
    "IDF:一个词语普遍重要性的度量\n",
    "\n",
    "某一特定文件内的高词语频率以及该词语在整个文件集合中的低文件频率，可以产生出高权重的TF-IDf"
   ]
  },
  {
   "cell_type": "code",
   "execution_count": 2,
   "metadata": {},
   "outputs": [
    {
     "name": "stdout",
     "output_type": "stream",
     "text": [
      "[[0 1 1 1 0 0 1 0 1]\n",
      " [0 1 0 1 0 2 1 0 1]\n",
      " [1 0 0 0 1 0 1 1 0]\n",
      " [0 1 1 1 0 0 1 0 1]]\n"
     ]
    },
    {
     "data": {
      "text/plain": [
       "array([[0.        , 0.43877674, 0.54197657, 0.43877674, 0.        ,\n",
       "        0.        , 0.35872874, 0.        , 0.43877674],\n",
       "       [0.        , 0.27230147, 0.        , 0.27230147, 0.        ,\n",
       "        0.85322574, 0.22262429, 0.        , 0.27230147],\n",
       "       [0.55280532, 0.        , 0.        , 0.        , 0.55280532,\n",
       "        0.        , 0.28847675, 0.55280532, 0.        ],\n",
       "       [0.        , 0.43877674, 0.54197657, 0.43877674, 0.        ,\n",
       "        0.        , 0.35872874, 0.        , 0.43877674]])"
      ]
     },
     "execution_count": 2,
     "metadata": {},
     "output_type": "execute_result"
    }
   ],
   "source": [
    "from sklearn.feature_extraction.text import CountVectorizer  \n",
    "from sklearn.feature_extraction.text import TfidfTransformer    \n",
    "\n",
    "# 语料  \n",
    "corpus = [  \n",
    "    'This is the first document.',  \n",
    "    'This is the second second document.',  \n",
    "    'And the third one.',  \n",
    "    'Is this the first document?',  \n",
    "]  \n",
    "# 将文本中的词语转换为词频矩阵  \n",
    "vectorizer = CountVectorizer()  \n",
    "# 计算个词语出现的次数  \n",
    "X = vectorizer.fit_transform(corpus)  \n",
    "# 获取词袋中所有文本关键词  \n",
    "word = vectorizer.get_feature_names()  \n",
    "# 查看词频结果  \n",
    "print(X.toarray())\n",
    "\n",
    "transformer = TfidfTransformer()  \n",
    "tfidf = transformer.fit_transform(X)  \n",
    "# tf-idf\n",
    "tfidf.toarray()  "
   ]
  },
  {
   "cell_type": "markdown",
   "metadata": {},
   "source": [
    "## 互信息\n",
    "\n",
    "互信息(Mutual Information)是信息论里一种有用的信息度量，它可以看成是一个随机变量中包含的关于另一个随机变量的信息量，或者说是一个随机变量由于已知另一个随机变量而减少的不肯定性。\n",
    "\n",
    "H(x,y) = H(x) + H(y|x) = H(y) + H(x|y)\n",
    "H(x) - H(x|y) = H(y) - H(y|x) --->互信息"
   ]
  },
  {
   "cell_type": "code",
   "execution_count": 7,
   "metadata": {},
   "outputs": [
    {
     "name": "stdout",
     "output_type": "stream",
     "text": [
      "[0.50467907 0.22145349 0.99041711 0.99483244]\n"
     ]
    }
   ],
   "source": [
    "from sklearn import datasets\n",
    "from sklearn.feature_selection import mutual_info_classif\n",
    " \n",
    "iris = datasets.load_iris()\n",
    "x = iris.data\n",
    "label = iris.target\n",
    " \n",
    "mutual_info = mutual_info_classif(x, label, discrete_features= False)\n",
    "print(mutual_info)"
   ]
  }
 ],
 "metadata": {
  "kernelspec": {
   "display_name": "Python 3",
   "language": "python",
   "name": "python3"
  },
  "language_info": {
   "codemirror_mode": {
    "name": "ipython",
    "version": 3
   },
   "file_extension": ".py",
   "mimetype": "text/x-python",
   "name": "python",
   "nbconvert_exporter": "python",
   "pygments_lexer": "ipython3",
   "version": "3.7.2"
  }
 },
 "nbformat": 4,
 "nbformat_minor": 2
}
